{
  "nbformat": 4,
  "nbformat_minor": 0,
  "metadata": {
    "colab": {
      "provenance": [],
      "authorship_tag": "ABX9TyO6wbYJpgPkwOd/GcyE7ZMV",
      "include_colab_link": true
    },
    "kernelspec": {
      "name": "python3",
      "display_name": "Python 3"
    },
    "language_info": {
      "name": "python"
    }
  },
  "cells": [
    {
      "cell_type": "markdown",
      "metadata": {
        "id": "view-in-github",
        "colab_type": "text"
      },
      "source": [
        "<a href=\"https://colab.research.google.com/github/2303A51046/AIML-2025_B/blob/main/Untitled2.ipynb\" target=\"_parent\"><img src=\"https://colab.research.google.com/assets/colab-badge.svg\" alt=\"Open In Colab\"/></a>"
      ]
    },
    {
      "cell_type": "code",
      "execution_count": null,
      "metadata": {
        "id": "d_6xSd3Sr6Qp"
      },
      "outputs": [],
      "source": [
        "from collections import namedtuple, Counter, defaultdict\n",
        "import random\n",
        "import math\n",
        "import functools\n",
        "cache = functools.lru_cache(10**6)"
      ]
    },
    {
      "cell_type": "code",
      "source": [
        "class Game:\n",
        "    \"\"\"A game is similar to a problem, but it has a terminal test instead of\n",
        "    a goal test, and a utility for each terminal state. To create a game,\n",
        "    subclass this class and implement `actions`, `result`, `is_terminal`,\n",
        "    and `utility`. You will also need to set the .initial attribute to the\n",
        "    initial state; this can be done in the constructor.\"\"\"\n",
        "\n",
        "    def actions(self, state):\n",
        "        \"\"\"Return a collection of the allowable moves from this state.\"\"\"\n",
        "        raise NotImplementedError\n",
        "\n",
        "    def result(self, state, move):\n",
        "        \"\"\"Return the state that results from making a move from a state.\"\"\"\n",
        "        raise NotImplementedError\n",
        "\n",
        "    def is_terminal(self, state):\n",
        "        \"\"\"Return True if this is a final state for the game.\"\"\"\n",
        "        return not self.actions(state)\n",
        "\n",
        "    def utility(self, state, player):\n",
        "        \"\"\"Return the value of this final state to player.\"\"\"\n",
        "        raise NotImplementedError"
      ],
      "metadata": {
        "id": "wW_Xv1HesUVy"
      },
      "execution_count": null,
      "outputs": []
    },
    {
      "cell_type": "code",
      "source": [
        "def play_game(game, strategies: dict, verbose=False):\n",
        "    \"\"\"Play a turn-taking game. `strategies` is a {player_name: function} dict,\n",
        "    where function(state, game) is used to get the player's move.\"\"\"\n",
        "    state = game.initial\n",
        "    while not game.is_terminal(state):\n",
        "        player = state.to_move\n",
        "        move = strategies[player](game, state)\n",
        "        state = game.result(state, move)\n",
        "        if verbose:\n",
        "            print('Player', player, 'move:', move)\n",
        "            print(state)\n",
        "    return state"
      ],
      "metadata": {
        "id": "Sto5jMLQsbkF"
      },
      "execution_count": null,
      "outputs": []
    },
    {
      "cell_type": "code",
      "source": [
        "def random_player(game, state): return random.choice(list(game.actions(state)))\n",
        "\n",
        "def player(search_algorithm):\n",
        "    \"\"\"A game player who uses the specified search algorithm\"\"\"\n",
        "    return lambda game, state: search_algorithm(game, state)[1]"
      ],
      "metadata": {
        "id": "qeogCF-JuJiF"
      },
      "execution_count": null,
      "outputs": []
    },
    {
      "cell_type": "code",
      "source": [
        "\n",
        "\n",
        "play_game(TicTacToe(), dict(X=random_player, O=player(alphabeta_search)), verbose=True).utility"
      ],
      "metadata": {
        "colab": {
          "base_uri": "https://localhost:8080/"
        },
        "id": "v8qjZigZurGI",
        "outputId": "8133b950-c8ad-46c6-eba3-6ce7b22db42c"
      },
      "execution_count": 11,
      "outputs": [
        {
          "output_type": "stream",
          "name": "stdout",
          "text": [
            "Player X move: (2, 2)\n",
            ". . .\n",
            ". . .\n",
            ". . X\n",
            "\n",
            "Player O move: (1, 1)\n",
            ". . .\n",
            ". O .\n",
            ". . X\n",
            "\n",
            "Player X move: (0, 0)\n",
            "X . .\n",
            ". O .\n",
            ". . X\n",
            "\n",
            "Player O move: (0, 1)\n",
            "X . .\n",
            "O O .\n",
            ". . X\n",
            "\n",
            "Player X move: (1, 2)\n",
            "X . .\n",
            "O O .\n",
            ". X X\n",
            "\n",
            "Player O move: (0, 2)\n",
            "X . .\n",
            "O O .\n",
            "O X X\n",
            "\n",
            "Player X move: (1, 0)\n",
            "X X .\n",
            "O O .\n",
            "O X X\n",
            "\n",
            "Player O move: (2, 0)\n",
            "X X O\n",
            "O O .\n",
            "O X X\n",
            "\n"
          ]
        },
        {
          "output_type": "execute_result",
          "data": {
            "text/plain": [
              "-1"
            ]
          },
          "metadata": {},
          "execution_count": 11
        }
      ]
    },
    {
      "cell_type": "code",
      "source": [
        "\n",
        "\n",
        "play_game(TicTacToe(), dict(X=random_player, O=player(alphabeta_search)), verbose=True).utility"
      ],
      "metadata": {
        "colab": {
          "base_uri": "https://localhost:8080/"
        },
        "id": "CYHEcGmnu7KG",
        "outputId": "4aef7f6a-d9e4-4586-df4f-2627a86ec3b1"
      },
      "execution_count": 13,
      "outputs": [
        {
          "output_type": "stream",
          "name": "stdout",
          "text": [
            "Player X move: (0, 1)\n",
            ". . .\n",
            "X . .\n",
            ". . .\n",
            "\n",
            "Player O move: (2, 1)\n",
            ". . .\n",
            "X . O\n",
            ". . .\n",
            "\n",
            "Player X move: (1, 0)\n",
            ". X .\n",
            "X . O\n",
            ". . .\n",
            "\n",
            "Player O move: (0, 0)\n",
            "O X .\n",
            "X . O\n",
            ". . .\n",
            "\n",
            "Player X move: (1, 2)\n",
            "O X .\n",
            "X . O\n",
            ". X .\n",
            "\n",
            "Player O move: (1, 1)\n",
            "O X .\n",
            "X O O\n",
            ". X .\n",
            "\n",
            "Player X move: (2, 2)\n",
            "O X .\n",
            "X O O\n",
            ". X X\n",
            "\n",
            "Player O move: (0, 2)\n",
            "O X .\n",
            "X O O\n",
            "O X X\n",
            "\n",
            "Player X move: (2, 0)\n",
            "O X X\n",
            "X O O\n",
            "O X X\n",
            "\n"
          ]
        },
        {
          "output_type": "execute_result",
          "data": {
            "text/plain": [
              "0"
            ]
          },
          "metadata": {},
          "execution_count": 13
        }
      ]
    }
  ]
}