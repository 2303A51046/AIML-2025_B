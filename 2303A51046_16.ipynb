{
  "nbformat": 4,
  "nbformat_minor": 0,
  "metadata": {
    "colab": {
      "provenance": [],
      "authorship_tag": "ABX9TyMaqPk9XK3PfRNqlx72wY83",
      "include_colab_link": true
    },
    "kernelspec": {
      "name": "python3",
      "display_name": "Python 3"
    },
    "language_info": {
      "name": "python"
    }
  },
  "cells": [
    {
      "cell_type": "markdown",
      "metadata": {
        "id": "view-in-github",
        "colab_type": "text"
      },
      "source": [
        "<a href=\"https://colab.research.google.com/github/2303A51046/AIML-2025_B/blob/main/2303A51046_16.ipynb\" target=\"_parent\"><img src=\"https://colab.research.google.com/assets/colab-badge.svg\" alt=\"Open In Colab\"/></a>"
      ]
    },
    {
      "cell_type": "code",
      "execution_count": 1,
      "metadata": {
        "colab": {
          "base_uri": "https://localhost:8080/"
        },
        "id": "TucMDlsGXDWJ",
        "outputId": "97d98596-e172-49a0-ac04-aab2a686eba8"
      },
      "outputs": [
        {
          "output_type": "stream",
          "name": "stdout",
          "text": [
            "[1 2 3 4 5]\n"
          ]
        }
      ],
      "source": [
        "import numpy as np\n",
        "#1D Array\n",
        "arr1=np.array([1,2,3,4,5])\n",
        "print(arr1)"
      ]
    },
    {
      "cell_type": "code",
      "source": [
        "import numpy as np\n",
        "#2D Array\n",
        "arr2=np.array([[1,2,3],[4,5,6]])\n",
        "print(arr2)"
      ],
      "metadata": {
        "colab": {
          "base_uri": "https://localhost:8080/"
        },
        "id": "1CFuGQkwXUNC",
        "outputId": "28405ad5-df14-4972-d68e-7e6058a06dfa"
      },
      "execution_count": 2,
      "outputs": [
        {
          "output_type": "stream",
          "name": "stdout",
          "text": [
            "[[1 2 3]\n",
            " [4 5 6]]\n"
          ]
        }
      ]
    },
    {
      "cell_type": "code",
      "source": [
        "import numpy as np\n",
        "#zero Array\n",
        "arr3=np.zeros((3,3))\n",
        "print(arr3)"
      ],
      "metadata": {
        "colab": {
          "base_uri": "https://localhost:8080/"
        },
        "id": "AkFEYz_vXd-z",
        "outputId": "e120f8a0-00c5-438c-c147-4b42aade35d7"
      },
      "execution_count": 3,
      "outputs": [
        {
          "output_type": "stream",
          "name": "stdout",
          "text": [
            "[[0. 0. 0.]\n",
            " [0. 0. 0.]\n",
            " [0. 0. 0.]]\n"
          ]
        }
      ]
    },
    {
      "cell_type": "code",
      "source": [
        "import numpy as np\n",
        "#one Array\n",
        "arr4=np.ones((3,3))\n",
        "print(arr4)"
      ],
      "metadata": {
        "colab": {
          "base_uri": "https://localhost:8080/"
        },
        "id": "EUq3ejpSX7V7",
        "outputId": "c75a23c2-5e6b-4e3d-a3ea-7bc0c72a0319"
      },
      "execution_count": 4,
      "outputs": [
        {
          "output_type": "stream",
          "name": "stdout",
          "text": [
            "[[1. 1. 1.]\n",
            " [1. 1. 1.]\n",
            " [1. 1. 1.]]\n"
          ]
        }
      ]
    },
    {
      "cell_type": "code",
      "source": [
        "import numpy as np\n",
        "#Range of numbers\n",
        "range_arr=np.arange(0,10,2)#\n",
        "print(\"Range Array:\",range_arr)"
      ],
      "metadata": {
        "colab": {
          "base_uri": "https://localhost:8080/"
        },
        "id": "do5rhxtzX1D6",
        "outputId": "492d89ae-0bba-47e0-bc3a-cb2cbc066108"
      },
      "execution_count": 7,
      "outputs": [
        {
          "output_type": "stream",
          "name": "stdout",
          "text": [
            "Range Array: [0 2 4 6 8]\n"
          ]
        }
      ]
    },
    {
      "cell_type": "code",
      "source": [
        "import numpy as np\n",
        "#Random Array\n",
        "random_arr=np.random.rand(3,3)\n",
        "print(\"Random Array:\",random_arr)"
      ],
      "metadata": {
        "colab": {
          "base_uri": "https://localhost:8080/"
        },
        "id": "EqBXd3oWbm_j",
        "outputId": "1557e121-27b2-4e27-d0f2-2bcd19fa37dd"
      },
      "execution_count": 8,
      "outputs": [
        {
          "output_type": "stream",
          "name": "stdout",
          "text": [
            "Random Array: [[0.29802305 0.48960329 0.23572116]\n",
            " [0.60438518 0.70107375 0.90782917]\n",
            " [0.45996909 0.50366961 0.24138378]]\n"
          ]
        }
      ]
    },
    {
      "cell_type": "code",
      "source": [
        "import numpy as np\n",
        "arr=np.array([[1,2,3],[4,5,6]])\n",
        "print(\"shape:\",arr.shape) #(rows,columns)\n",
        "print(\"Dimension:\",arr.ndim) #2D array\n",
        "print(\"Data Type:\",arr.dtype) #int64 or float64\n",
        "print(\"Size:\",arr.size)  #total elements\n",
        "print(\"item size:\",arr.itemsize)"
      ],
      "metadata": {
        "colab": {
          "base_uri": "https://localhost:8080/"
        },
        "id": "KtQKmARmdVMT",
        "outputId": "bd12c6ac-6e9c-4722-e04d-d018d7b075ff"
      },
      "execution_count": 11,
      "outputs": [
        {
          "output_type": "stream",
          "name": "stdout",
          "text": [
            "shape: (2, 3)\n",
            "Dimension: 2\n",
            "Data Type: int64\n",
            "Size: 6\n",
            "item size: 8\n"
          ]
        }
      ]
    },
    {
      "cell_type": "code",
      "source": [
        "import numpy as np\n",
        "arr=np.array([10,20,30,40,50])\n",
        "print(\"First element\",arr[0])\n",
        "print(\"Last element\",arr[-1])\n",
        "print(\"slice[1:4]:\",arr[1:4])\n",
        "print(\"Every second element\",arr[::2])"
      ],
      "metadata": {
        "colab": {
          "base_uri": "https://localhost:8080/"
        },
        "id": "3FTe235HfJzF",
        "outputId": "f44d9a62-110f-45d2-f856-c83db3dbb288"
      },
      "execution_count": 14,
      "outputs": [
        {
          "output_type": "stream",
          "name": "stdout",
          "text": [
            "First element 10\n",
            "Last element 50\n",
            "slice[1:4]: [20 30 40]\n",
            "Every second element [10 30 50]\n"
          ]
        }
      ]
    },
    {
      "cell_type": "code",
      "source": [
        "import numpy as np\n",
        "#2D indexing\n",
        "arr2=np.array([[1,2,3],[4,5,6]])\n",
        "print(\"element at row 1,col 2:\",arr2[0,1])\n",
        "print(\"second row:\",arr2[1,:])\n",
        "print(\"second column:\",arr2[:,1])"
      ],
      "metadata": {
        "colab": {
          "base_uri": "https://localhost:8080/"
        },
        "id": "nxkIBdhBgBCk",
        "outputId": "b0617b39-a214-4d46-d76f-5d4becaf3a34"
      },
      "execution_count": 15,
      "outputs": [
        {
          "output_type": "stream",
          "name": "stdout",
          "text": [
            "element at row 1,col 2: 2\n",
            "second row: [4 5 6]\n",
            "second column: [2 5]\n"
          ]
        }
      ]
    },
    {
      "cell_type": "code",
      "source": [
        "import numpy as np\n",
        "a=np.array([1,2,3])\n",
        "b=np.array([4,5,6])\n",
        "print(\"Addition:\",a+b)\n",
        "print(\"Subtraction:\",a-b)\n",
        "print(\"Multiplication:\",a*b)\n",
        "print(\"Division:\",a/b)\n",
        "print(\"power:\",a**2)"
      ],
      "metadata": {
        "colab": {
          "base_uri": "https://localhost:8080/"
        },
        "id": "fmDZ2ojOhLCL",
        "outputId": "4936c4ed-2a9b-45eb-9d0c-aab577eef329"
      },
      "execution_count": 16,
      "outputs": [
        {
          "output_type": "stream",
          "name": "stdout",
          "text": [
            "Addition: [5 7 9]\n",
            "Subtraction: [-3 -3 -3]\n",
            "Multiplication: [ 4 10 18]\n",
            "Division: [0.25 0.4  0.5 ]\n",
            "power: [1 4 9]\n"
          ]
        }
      ]
    },
    {
      "cell_type": "code",
      "source": [
        "import numpy as np\n",
        "arr=np.array([0,np.pi/2,np.pi])\n",
        "print(\"sin values:\",np.sin(arr))\n",
        "print(\"cos values:\",np.cos(arr))\n",
        "print(\"square root\",np.sqrt([1,4,9]))\n",
        "print(\"exponential:\",np.exp([1,2]))\n",
        "print(\"logarithm:\",np.log([1,np.e,np.e**2]))"
      ],
      "metadata": {
        "colab": {
          "base_uri": "https://localhost:8080/"
        },
        "id": "dfqnI_eIikHV",
        "outputId": "1be16ed3-2447-46ed-90af-ca387941da4f"
      },
      "execution_count": 18,
      "outputs": [
        {
          "output_type": "stream",
          "name": "stdout",
          "text": [
            "sin values: [0.0000000e+00 1.0000000e+00 1.2246468e-16]\n",
            "cos values: [ 1.000000e+00  6.123234e-17 -1.000000e+00]\n",
            "square root [1. 2. 3.]\n",
            "exponential: [2.71828183 7.3890561 ]\n",
            "logarithm: [0. 1. 2.]\n"
          ]
        }
      ]
    },
    {
      "cell_type": "code",
      "source": [
        "import numpy as np\n",
        "arr=np.array([[1,2,3],[4,5,6]])\n",
        "print(\"sum:\",np.sum(arr))\n",
        "print(\"min:\",np.min(arr))\n",
        "print(\"max:\",np.max(arr))\n",
        "print(\"mean:\",np.mean(arr))\n",
        "print(\"standard deviation:\",np.std(arr))\n",
        "print(\"sum along axis 0:\",np.sum(arr,axis=0))\n",
        "print(\"sum along axis 1:\",np.sum(arr,axis=1))"
      ],
      "metadata": {
        "colab": {
          "base_uri": "https://localhost:8080/"
        },
        "id": "K3A1ziXEjo_M",
        "outputId": "c3958843-ee5a-4625-d038-e3acc2968c79"
      },
      "execution_count": 21,
      "outputs": [
        {
          "output_type": "stream",
          "name": "stdout",
          "text": [
            "sum: 21\n",
            "min: 1\n",
            "max: 6\n",
            "mean: 3.5\n",
            "standard deviation: 1.707825127659933\n",
            "sum along axis 0: [5 7 9]\n",
            "sum along axis 1: [ 6 15]\n"
          ]
        }
      ]
    },
    {
      "cell_type": "code",
      "source": [
        "import numpy as np\n",
        "a=np.array([1,2,3])\n",
        "b=5\n",
        "print(\"add scalar to array:\",a+b)\n",
        "c=np.array([[1],[2],[3]])\n",
        "d=np.array([[4,5,6]])\n",
        "print(\"broadcasted sum:\\n:\",c+d)"
      ],
      "metadata": {
        "colab": {
          "base_uri": "https://localhost:8080/"
        },
        "id": "agy41AC0ltNF",
        "outputId": "45ba02c8-1dee-4553-f5b7-e716b4aa96e9"
      },
      "execution_count": 22,
      "outputs": [
        {
          "output_type": "stream",
          "name": "stdout",
          "text": [
            "add scalar to array: [6 7 8]\n",
            "broadcasted sum:\n",
            ": [[5 6 7]\n",
            " [6 7 8]\n",
            " [7 8 9]]\n"
          ]
        }
      ]
    },
    {
      "cell_type": "code",
      "source": [
        "import numpy as np\n",
        "A=np.array([[1,2],[3,4]])\n",
        "B=np.array([[5,6],[7,8]])\n",
        "print(\"Matrix multiplication:\\n\",np.dot(A,B))\n",
        "print(\"Transpose:\\n\",A.T)\n",
        "print(\"Inverse:\\n\",np.linalg.inv(A))\n",
        "print(\"Determinant:\\n\",np.linalg.det(A))"
      ],
      "metadata": {
        "colab": {
          "base_uri": "https://localhost:8080/"
        },
        "id": "Ad-72myVpp8j",
        "outputId": "48e396f5-6845-466e-f13d-05879ebd9858"
      },
      "execution_count": 24,
      "outputs": [
        {
          "output_type": "stream",
          "name": "stdout",
          "text": [
            "Matrix multiplication:\n",
            " [[19 22]\n",
            " [43 50]]\n",
            "Transpose:\n",
            " [[1 3]\n",
            " [2 4]]\n",
            "Inverse:\n",
            " [[-2.   1. ]\n",
            " [ 1.5 -0.5]]\n",
            "Determinant:\n",
            " -2.0000000000000004\n"
          ]
        }
      ]
    },
    {
      "cell_type": "code",
      "source": [
        "import numpy as np\n",
        "#marks of students in 3 subjects\n",
        "marks=np.array([[85,90,88],\n",
        "                [78,81,85],\n",
        "                [92,89,95]\n",
        "                ])\n",
        "print(\"averag marks per student\",np.mean(marks,axis=1))\n",
        "print(\"average marks per subject\",np.mean(marks,axis=0))\n",
        "print(\"highest marks in each subject\",np.max(marks,axis=0))\n",
        "print(\"lowest marks in each subject\",np.min(marks,axis=0))"
      ],
      "metadata": {
        "colab": {
          "base_uri": "https://localhost:8080/"
        },
        "id": "uBZ6lS0AsASD",
        "outputId": "ce758332-02bd-48ff-a790-05bac6c1b545"
      },
      "execution_count": 26,
      "outputs": [
        {
          "output_type": "stream",
          "name": "stdout",
          "text": [
            "averag marks per student [87.66666667 81.33333333 92.        ]\n",
            "average marks per subject [85.         86.66666667 89.33333333]\n",
            "highest marks in each subject [92 90 95]\n",
            "lowest marks in each subject [78 81 85]\n"
          ]
        }
      ]
    }
  ]
}