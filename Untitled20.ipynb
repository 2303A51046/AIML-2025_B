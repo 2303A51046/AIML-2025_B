{
  "nbformat": 4,
  "nbformat_minor": 0,
  "metadata": {
    "colab": {
      "provenance": [],
      "authorship_tag": "ABX9TyPkDKxNmKITAsrpy8Yj9XSO",
      "include_colab_link": true
    },
    "kernelspec": {
      "name": "python3",
      "display_name": "Python 3"
    },
    "language_info": {
      "name": "python"
    }
  },
  "cells": [
    {
      "cell_type": "markdown",
      "metadata": {
        "id": "view-in-github",
        "colab_type": "text"
      },
      "source": [
        "<a href=\"https://colab.research.google.com/github/2303A51046/AIML-2025_B/blob/main/Untitled20.ipynb\" target=\"_parent\"><img src=\"https://colab.research.google.com/assets/colab-badge.svg\" alt=\"Open In Colab\"/></a>"
      ]
    },
    {
      "cell_type": "code",
      "execution_count": 1,
      "metadata": {
        "id": "inVRew1DVMba"
      },
      "outputs": [],
      "source": [
        "# writing to a file\n",
        "# open file in write code\n",
        "file = open(\"example.txt\",\"w\")\n",
        "\n",
        "#write text to file\n",
        "file = open(\"example.txt\",\"w\")\n",
        "file.write(\"Hello,B.Tech students!\\n\")\n",
        "file.write(\"This is file handling in python.\\n\")\n",
        "file.write(\"sr university\")\n",
        "file.close()"
      ]
    },
    {
      "cell_type": "code",
      "source": [
        "# Reading from a file\n",
        "# open file in read mode\n",
        "file= open(\"example.txt\",\"r\")\n",
        "\n",
        "# Read entire content\n",
        "content = file.read()\n",
        "print(\"Content:\")\n",
        "print(content)\n",
        "file.close()"
      ],
      "metadata": {
        "colab": {
          "base_uri": "https://localhost:8080/"
        },
        "id": "Hq5AZ4jhXlYW",
        "outputId": "9bbf8657-e94b-4f4c-8301-bf0028a1e03b"
      },
      "execution_count": 5,
      "outputs": [
        {
          "output_type": "stream",
          "name": "stdout",
          "text": [
            "Content:\n",
            "Hello,B.Tech students!\n",
            "This is file handling in python.\n",
            "sr university\n",
            "This is appended text.\n"
          ]
        }
      ]
    },
    {
      "cell_type": "code",
      "source": [
        "#reading line by line\n",
        "file = open(\"example.txt\",\"r\")\n",
        "line = file.readline()\n",
        "while line:\n",
        "    print(line,end=\"\")\n",
        "    line = file.readline()\n",
        "file.close()"
      ],
      "metadata": {
        "colab": {
          "base_uri": "https://localhost:8080/"
        },
        "id": "PmUu7E2GZee8",
        "outputId": "d0c29519-ecb1-4ff3-d1a2-87f8e50054a6"
      },
      "execution_count": 6,
      "outputs": [
        {
          "output_type": "stream",
          "name": "stdout",
          "text": [
            "Hello,B.Tech students!\n",
            "This is file handling in python.\n",
            "sr university\n",
            "This is appended text."
          ]
        }
      ]
    },
    {
      "cell_type": "code",
      "source": [
        "#reading all lines into a list\n",
        "file = open(\"example.txt\",\"r\")\n",
        "lines = file.readlines()\n",
        "\n",
        "file.close()"
      ],
      "metadata": {
        "id": "m8vLo2dTaU6U"
      },
      "execution_count": 7,
      "outputs": []
    },
    {
      "cell_type": "code",
      "source": [
        "#appending data to an existing file\n",
        "file = open(\"example.txt\",\"a\")\n",
        "file.write(\"\\nThis is appended text.\")\n",
        "file.close()"
      ],
      "metadata": {
        "id": "94B_ojwvbFMa"
      },
      "execution_count": 2,
      "outputs": []
    },
    {
      "cell_type": "code",
      "source": [
        "#using with statement\n",
        "#The with statement automatically closes the file after use\n",
        "with open(\"example.txt\",\"r\") as file:\n",
        "    content = file.read()\n",
        "    print(content)"
      ],
      "metadata": {
        "colab": {
          "base_uri": "https://localhost:8080/"
        },
        "id": "dbq6ljVMa9x2",
        "outputId": "b906d307-0b19-4841-958b-1d6e816e7ec8"
      },
      "execution_count": 3,
      "outputs": [
        {
          "output_type": "stream",
          "name": "stdout",
          "text": [
            "Hello,B.Tech students!\n",
            "This is file handling in python.\n",
            "sr university\n",
            "This is appended text.\n"
          ]
        }
      ]
    },
    {
      "cell_type": "code",
      "source": [
        "# working with csv files\n",
        "import csv\n",
        "\n",
        "#writing to csv\n",
        "with open(\"example.csv\",\"w\",newline=\"\") as file:\n",
        "    writer = csv.writer(file)\n",
        "    writer.writerow([\"Name\",\"Age\",\"City\"])\n",
        "    writer.writerow([\"John\",25,\"New York\"])\n",
        "    writer.writerow([\"Alice\",30,\"Los Angeles\"])"
      ],
      "metadata": {
        "id": "MpwB8dRucAN0"
      },
      "execution_count": 13,
      "outputs": []
    },
    {
      "cell_type": "code",
      "source": [
        "# write rows\n",
        "with open(\"example.csv\",\"w\",newline=\"\") as file:\n",
        "    writer = csv.writer(file)\n",
        "    writer.writerow\n",
        "\n"
      ],
      "metadata": {
        "id": "6CC0N3xscf8D"
      },
      "execution_count": 11,
      "outputs": []
    },
    {
      "cell_type": "code",
      "source": [
        "# reading from csv\n",
        "with open(\"example.csv\",\"r\") as file:\n",
        "    reader = csv.reader(file)\n",
        "    for row in reader:\n",
        "        print(row)"
      ],
      "metadata": {
        "colab": {
          "base_uri": "https://localhost:8080/"
        },
        "id": "CGsHNhR8fXp8",
        "outputId": "365ef8f9-c842-44bf-936c-24d9abed1001"
      },
      "execution_count": 14,
      "outputs": [
        {
          "output_type": "stream",
          "name": "stdout",
          "text": [
            "['Name', 'Age', 'City']\n",
            "['John', '25', 'New York']\n",
            "['Alice', '30', 'Los Angeles']\n"
          ]
        }
      ]
    },
    {
      "cell_type": "code",
      "source": [],
      "metadata": {
        "id": "8ZWGDxhffr77"
      },
      "execution_count": null,
      "outputs": []
    }
  ]
}